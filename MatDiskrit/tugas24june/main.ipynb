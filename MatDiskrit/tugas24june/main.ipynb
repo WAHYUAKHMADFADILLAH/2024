{
 "cells": [
  {
   "cell_type": "markdown",
   "metadata": {},
   "source": [
    "## **Teori Three**\n",
    "\n",
    "**Masalah:**\n",
    "\n",
    "Ani memiliki tiga kotak yang diberi label Kotak A, Kotak B, dan Kotak C. Dia ingin memasukkan 9 buah mainan ke dalam tiga kotak tersebut. Mainan tersebut terdiri dari 3 boneka, 3 mobil-mobilan, dan 3 bola. Ani ingin memastikan bahwa setiap kotak berisi satu boneka, satu mobil-mobilan, dan satu bola. Bagaimana Ani bisa membagi mainan-mainan tersebut ke dalam tiga kotak?"
   ]
  },
  {
   "cell_type": "code",
   "execution_count": 4,
   "metadata": {},
   "outputs": [
    {
     "name": "stdout",
     "output_type": "stream",
     "text": [
      "Kotak A: Boneka1, Mobil1, Bola1\n",
      "Kotak B: Boneka2, Mobil2, Bola2\n",
      "Kotak C: Boneka3, Mobil3, Bola3\n"
     ]
    }
   ],
   "source": [
    "# Mainan\n",
    "\n",
    "boneka = [\"Boneka1\", \"Boneka2\", \"Boneka3\"]\n",
    "mobil = [\"Mobil1\", \"Mobil2\", \"Mobil3\"]\n",
    "bola = [\"Bola1\", \"Bola2\", \"Bola3\"]\n",
    "\n",
    "# Kotak\n",
    "kotak = {\n",
    "    \"Kotak A\": [],\n",
    "    \"Kotak B\": [],\n",
    "    \"Kotak C\": []\n",
    "}\n",
    "\n",
    "# Membagi mainan ke dalam kotak\n",
    "kotak[\"Kotak A\"] = [boneka[0], mobil[0], bola[0]]\n",
    "kotak[\"Kotak B\"] = [boneka[1], mobil[1], bola[1]]\n",
    "kotak[\"Kotak C\"] = [boneka[2], mobil[2], bola[2]]\n",
    "\n",
    "# Menampilkan hasil\n",
    "for k, v in kotak.items():\n",
    "    print(f\"{k}: {', '.join(v)}\")\n"
   ]
  },
  {
   "cell_type": "markdown",
   "metadata": {},
   "source": [
    "## **Grap dan Bahasa Automata**\n",
    "\n",
    "**Masalah:**\n",
    "\n",
    "Sebuah robot bergerak di atas sebuah grid berukuran N×NN \\times NN×N. Robot ini hanya bisa bergerak ke atas, bawah, kiri, dan kanan. Misalkan robot dimulai dari koordinat (0, 0) dan harus mencapai koordinat (N-1, N-1).\n",
    "\n",
    "Buatlah program Python untuk menentukan apakah robot dapat mencapai koordinat (N-1, N-1) dari koordinat (0, 0) dengan mempertimbangkan kemungkinan gerakannya."
   ]
  },
  {
   "cell_type": "code",
   "execution_count": 5,
   "metadata": {},
   "outputs": [
    {
     "name": "stdout",
     "output_type": "stream",
     "text": [
      "Robot dapat mencapai koordinat (N-1, N-1)\n"
     ]
    }
   ],
   "source": [
    "from collections import deque\n",
    "def is_reachable(grid):\n",
    "    N = len(grid)\n",
    "    if grid[0][0] == 1 or grid[N-1][N-1] == 1:\n",
    "        return False\n",
    "    \n",
    "    directions = [(0, 1), (1, 0), (0, -1), (-1, 0)]\n",
    "    queue = deque([(0, 0)])\n",
    "    visited = set((0, 0))\n",
    "    \n",
    "    while queue:\n",
    "        x, y = queue.popleft()\n",
    "        \n",
    "        if (x, y) == (N-1, N-1):\n",
    "            return True\n",
    "        \n",
    "        for dx, dy in directions:\n",
    "            nx, ny = x + dx, y + dy\n",
    "            \n",
    "            if 0 <= nx < N and 0 <= ny < N and (nx, ny) not in visited and grid[nx][ny] == 0:\n",
    "                visited.add((nx, ny))\n",
    "                queue.append((nx, ny))\n",
    "    \n",
    "    return False\n",
    "\n",
    "# Contoh grid 3x3\n",
    "grid = [\n",
    "    [0, 1, 0],\n",
    "    [0, 0, 1],\n",
    "    [1, 0, 0]\n",
    "]\n",
    "\n",
    "if is_reachable(grid):\n",
    "    print(\"Robot dapat mencapai koordinat (N-1, N-1)\")\n",
    "else:\n",
    "    print(\"Robot tidak dapat mencapai koordinat (N-1, N-1)\")\n"
   ]
  }
 ],
 "metadata": {
  "kernelspec": {
   "display_name": "Python 3",
   "language": "python",
   "name": "python3"
  },
  "language_info": {
   "codemirror_mode": {
    "name": "ipython",
    "version": 3
   },
   "file_extension": ".py",
   "mimetype": "text/x-python",
   "name": "python",
   "nbconvert_exporter": "python",
   "pygments_lexer": "ipython3",
   "version": "3.12.4"
  }
 },
 "nbformat": 4,
 "nbformat_minor": 2
}
