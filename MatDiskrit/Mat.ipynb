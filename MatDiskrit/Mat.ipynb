{
 "cells": [
  {
   "cell_type": "code",
   "execution_count": null,
   "metadata": {},
   "outputs": [
    {
     "name": "stdout",
     "output_type": "stream",
     "text": [
      "17 adalah bilangan prima.\n"
     ]
    }
   ],
   "source": [
    "def hitung_luas_lapangan(p, l):\n",
    "    luas = p * l\n",
    "    return luas\n",
    "\n",
    "panjang_lapangan = float(input(\"Masukkan panjang lapangan (meter): \"))\n",
    "lebar_lapangan = float(input(\"Masukkan lebar lapangan (meter): \"))\n",
    "\n",
    "luas_lapangan = hitung_luas_lapangan(panjang_lapangan, lebar_lapangan)\n",
    "\n",
    "print(\"Luas lapangan sepak bola adalah\", luas_lapangan, \"meter persegi\")\n"
   ]
  },
  {
   "cell_type": "code",
   "execution_count": null,
   "metadata": {},
   "outputs": [
    {
     "ename": "",
     "evalue": "",
     "output_type": "error",
     "traceback": [
      "\u001b[1;31mRunning cells with 'Python 3.12.3' requires the ipykernel package.\n",
      "\u001b[1;31mRun the following command to install 'ipykernel' into the Python environment. \n",
      "\u001b[1;31mCommand: '/bin/python -m pip install ipykernel -U --user --force-reinstall'"
     ]
    }
   ],
   "source": [
    "nama_tuples = ('wahyu', 'wildan', 'dede', 'dila', 'bima', 'siti', \n",
    "               'shasa', 'slamet', 'rayan', 'fadil', 'dion', 'david', \n",
    "               'saif', 'putra', 'putri', 'akhmad', 'lala', 'Hannah', \n",
    "               'rehan', 'dodo')\n",
    "\n",
    "nama_list = ['wahyu', 'wildan', 'dede', 'dila', 'bima', 'siti', \n",
    "               'shasa', 'slamet', 'rayan', 'fadil', 'dion', 'david', \n",
    "               'saif', 'putra', 'putri', 'akhmad', 'lala', 'Hannah', \n",
    "               'rehan', 'dodo']\n",
    "\n",
    "nama_set = {'wahyu', 'wildan', 'dede', 'dila', 'bima', 'siti', \n",
    "               'shasa', 'slamet', 'rayan', 'fadil', 'dion', 'david', \n",
    "               'saif', 'putra', 'putri', 'akhmad', 'lala', 'Hannah', \n",
    "               'rehan', 'dodo'}\n",
    "\n",
    "nama_baru = ['Sophie', 'Nathan', 'Isabella', 'James', 'Chloe']\n",
    "\n",
    "nama_tuples += tuple(nama_baru)\n",
    "\n",
    "nama_list.extend(nama_baru)\n",
    "\n",
    "nama_set.update(nama_baru)\n",
    "\n",
    "print(\"Tuples setelah tambahan nama baru:\")\n",
    "print(nama_tuples)\n",
    "\n",
    "print(\"\\nList setelah tambahan nama baru:\")\n",
    "print(nama_list)\n",
    "\n",
    "print(\"\\nSet setelah tambahan nama baru:\")\n",
    "print(nama_set)\n"
   ]
  },
  {
   "cell_type": "code",
   "execution_count": 9,
   "metadata": {},
   "outputs": [
    {
     "name": "stdout",
     "output_type": "stream",
     "text": [
      "25 kongruen dengan 3 modulo 11.\n"
     ]
    }
   ],
   "source": [
    "# Kongruensi:\n",
    "# Tentukan apakah 25 ≡ 3 (mod11)\n",
    "a = 25\n",
    "b = 3\n",
    "m = 11\n",
    "\n",
    "if a % m == b % m:\n",
    "    print(f\"{a} kongruen dengan {b} modulo {m}.\")\n",
    "else:\n",
    "    print(f\"{a} tidak kongruen dengan {b} modulo {m}.\")\n"
   ]
  }
 ],
 "metadata": {
  "kernelspec": {
   "display_name": "Python 3",
   "language": "python",
   "name": "python3"
  },
  "language_info": {
   "codemirror_mode": {
    "name": "ipython",
    "version": 3
   },
   "file_extension": ".py",
   "mimetype": "text/x-python",
   "name": "python",
   "nbconvert_exporter": "python",
   "pygments_lexer": "ipython3",
   "version": "3.12.3"
  }
 },
 "nbformat": 4,
 "nbformat_minor": 2
}
