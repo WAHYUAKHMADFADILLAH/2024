{
 "cells": [
  {
   "cell_type": "code",
   "execution_count": 3,
   "metadata": {},
   "outputs": [
    {
     "name": "stdout",
     "output_type": "stream",
     "text": [
      "17 adalah bilangan prima.\n"
     ]
    }
   ],
   "source": [
    "#Bilangan PRIMA\n",
    "#Program untuk menentukan bilangan prima\n",
    "def is_prime(n):\n",
    "    if n <= 1:\n",
    "        return False\n",
    "    elif n <= 3:\n",
    "        return True\n",
    "    elif n % 2 == 0 or n % 3 == 0:\n",
    "        return False\n",
    "    i = 5\n",
    "    while i * i <= n:\n",
    "        if n % i == 0 or n % (i + 2) == 0:\n",
    "            return False\n",
    "        i += 6\n",
    "    return True\n",
    "\n",
    "# Contoh penggunaan\n",
    "number = int(input(\"Masukkan sebuah bilangan: \"))\n",
    "if is_prime(number):\n",
    "    print(number, \"adalah bilangan prima.\")\n",
    "else:\n",
    "    print(number, \"bukan bilangan prima.\")\n"
   ]
  },
  {
   "cell_type": "code",
   "execution_count": 3,
   "metadata": {},
   "outputs": [
    {
     "name": "stdout",
     "output_type": "stream",
     "text": [
      "Bilangan prima yang menghasilkan 84 adalah: [2, 2, 3, 7]\n"
     ]
    }
   ],
   "source": [
    "# Teorema Dasar Aritmetika:\n",
    "# Urai bilangan 𝑛 = 84 sebagai hasil perkalian bilangan prima.\n",
    "def prime_factors(n):\n",
    "    factors = []\n",
    "    divisor = 2\n",
    "    while n > 1:\n",
    "        while n % divisor == 0:\n",
    "            factors.append(divisor)\n",
    "            n //= divisor\n",
    "        divisor += 1\n",
    "    return factors\n",
    "\n",
    "n = 84\n",
    "factors = prime_factors(n)\n",
    "print(f\"Bilangan prima yang menghasilkan {n} adalah: {factors}\")"
   ]
  },
  {
   "cell_type": "code",
   "execution_count": 1,
   "metadata": {},
   "outputs": [
    {
     "name": "stdout",
     "output_type": "stream",
     "text": [
      "25 kongruen dengan 3 modulo 11.\n"
     ]
    }
   ],
   "source": [
    "# Kongruensi:\n",
    "# Tentukan apakah 25 ≡ 3 (mod11)\n",
    "a = 25\n",
    "b = 3\n",
    "m = 11\n",
    "\n",
    "if a % m == b % m:\n",
    "    print(f\"{a} kongruen dengan {b} modulo {m}.\")\n",
    "else:\n",
    "    print(f\"{a} tidak kongruen dengan {b} modulo {m}.\")\n"
   ]
  }
 ],
 "metadata": {
  "kernelspec": {
   "display_name": "Python 3",
   "language": "python",
   "name": "python3"
  },
  "language_info": {
   "codemirror_mode": {
    "name": "ipython",
    "version": 3
   },
   "file_extension": ".py",
   "mimetype": "text/x-python",
   "name": "python",
   "nbconvert_exporter": "python",
   "pygments_lexer": "ipython3",
   "version": "3.10.12"
  }
 },
 "nbformat": 4,
 "nbformat_minor": 2
}
