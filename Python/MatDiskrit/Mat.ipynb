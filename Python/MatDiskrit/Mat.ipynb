{
 "cells": [
  {
   "cell_type": "code",
   "execution_count": 18,
   "metadata": {},
   "outputs": [
    {
     "name": "stdout",
     "output_type": "stream",
     "text": [
      "2 adalah bilangan prima.\n"
     ]
    }
   ],
   "source": [
    "# Bilangan Prima\n",
    "# Tentukan apakah bilangan n = 17 adalah bilangan prima.\n",
    "def is_prime(n):\n",
    "    if n <= 1:\n",
    "        return False\n",
    "    if n <= 3:\n",
    "        return True\n",
    "    if n % 2 == 0 or n % 3 == 0:\n",
    "        return False\n",
    "\n",
    "n = 2\n",
    "if is_prime(n):\n",
    "    print(f\"{n} adalah bilangan prima.\")\n",
    "else:\n",
    "    print(f\"{n} bukan bilangan prima.\")\n"
   ]
  },
  {
   "cell_type": "code",
   "execution_count": 3,
   "metadata": {},
   "outputs": [
    {
     "name": "stdout",
     "output_type": "stream",
     "text": [
      "Bilangan prima yang menghasilkan 84 adalah: [2, 2, 3, 7]\n"
     ]
    }
   ],
   "source": [
    "# Teorema Dasar Aritmetika:\n",
    "# Urai bilangan 𝑛 = 84 sebagai hasil perkalian bilangan prima.\n",
    "def prime_factors(n):\n",
    "    factors = []\n",
    "    divisor = 2\n",
    "    while n > 1:\n",
    "        while n % divisor == 0:\n",
    "            factors.append(divisor)\n",
    "            n //= divisor\n",
    "        divisor += 1\n",
    "    return factors\n",
    "\n",
    "n = 84\n",
    "factors = prime_factors(n)\n",
    "print(f\"Bilangan prima yang menghasilkan {n} adalah: {factors}\")"
   ]
  },
  {
   "cell_type": "code",
   "execution_count": 15,
   "metadata": {},
   "outputs": [
    {
     "name": "stdout",
     "output_type": "stream",
     "text": [
      "Fungsi Euler dari 10 adalah: 4\n"
     ]
    }
   ],
   "source": [
    "# Fungsi Euler (Fungsi Totien)(𝜙)\n",
    "# Hitung nilai 𝜙(10), yaitu fungsi Euler dari 10.\n",
    "def euler_phi(n):\n",
    "    result = n\n",
    "    p = 2\n",
    "    while p * p <= n:\n",
    "        if n % p == 0:\n",
    "            while n % p == 0:\n",
    "                n //= p\n",
    "            result -= result // p\n",
    "        p += 1\n",
    "    if n > 1:\n",
    "        result -= result // n\n",
    "    return result\n",
    "\n",
    "n = 10\n",
    "phi = euler_phi(n)\n",
    "print(f\"Fungsi Euler dari {n} adalah: {phi}\")\n"
   ]
  },
  {
   "cell_type": "code",
   "execution_count": null,
   "metadata": {},
   "outputs": [],
   "source": [
    "# Kongruensi:\n",
    "# Tentukan apakah 25 ≡ 3 (mod11)\n",
    "a = 25\n",
    "b = 3\n",
    "m = 11\n",
    "\n",
    "if a % m == b % m:\n",
    "    print(f\"{a} kongruen dengan {b} modulo {m}.\")\n",
    "else:\n",
    "    print(f\"{a} tidak kongruen dengan {b} modulo {m}.\")\n"
   ]
  },
  {
   "cell_type": "code",
   "execution_count": null,
   "metadata": {},
   "outputs": [],
   "source": [
    "# Persamaan Diofantin:\n",
    "# Carilah solusi dari persamaan 21𝑥 + 15𝑦 = 3"
   ]
  }
 ],
 "metadata": {
  "kernelspec": {
   "display_name": "Python 3",
   "language": "python",
   "name": "python3"
  },
  "language_info": {
   "codemirror_mode": {
    "name": "ipython",
    "version": 3
   },
   "file_extension": ".py",
   "mimetype": "text/x-python",
   "name": "python",
   "nbconvert_exporter": "python",
   "pygments_lexer": "ipython3",
   "version": "3.10.12"
  }
 },
 "nbformat": 4,
 "nbformat_minor": 2
}
